{
 "cells": [
  {
   "cell_type": "code",
   "execution_count": 65,
   "id": "6821f97c",
   "metadata": {},
   "outputs": [],
   "source": [
    "#importing pandas and numpy library for reading files and data manupulation\n",
    "# import re i.r regular expression\n",
    "\n",
    "import pandas as pd\n",
    "import numpy as np\n",
    "import re \n",
    "\n",
    "from sklearn.model_selection import train_test_split\n",
    "from sklearn.linear_model import LogisticRegression # access convergence dint work\n",
    "from sklearn.tree import DecisionTreeClassifier\n",
    "from sklearn.metrics import roc_auc_score\n",
    "from sklearn.ensemble import RandomForestClassifier\n",
    "import xgboost as xgb\n",
    "from sklearn.ensemble import GradientBoostingClassifier\n",
    "from hyperopt import STATUS_OK, Trials, fmin, hp, tpe\n",
    "from sklearn.metrics import accuracy_score\n",
    "\n",
    "\n"
   ]
  },
  {
   "cell_type": "code",
   "execution_count": 66,
   "id": "e2d65be5",
   "metadata": {},
   "outputs": [],
   "source": [
    "#Read the train and test files\n",
    "\n",
    "train_data = pd.read_csv('C:/Users/punit/Binary Prediction of Smoker Status using Bio-Signals/train.csv')\n",
    "test_data = pd.read_csv('C:/Users/punit/Binary Prediction of Smoker Status using Bio-Signals/test.csv')"
   ]
  },
  {
   "cell_type": "code",
   "execution_count": 67,
   "id": "54234fd4",
   "metadata": {},
   "outputs": [],
   "source": [
    "# rename the columns\n",
    "\n",
    "train_data = train_data.rename(\n",
    "                        \n",
    "            columns = { \n",
    "                       old: re.sub(r'\\s|\\)|\\(','_', old).lower()\n",
    "                       for old in train_data.columns\n",
    "                      }\n",
    ")\n",
    "\n",
    "# rename the columns\n",
    "\n",
    "test_data = test_data.rename(\n",
    "                        \n",
    "            columns = { \n",
    "                       old: re.sub(r'\\s|\\)|\\(','_', old).lower()\n",
    "                       for old in test_data.columns\n",
    "                      }\n",
    ")"
   ]
  },
  {
   "cell_type": "code",
   "execution_count": 68,
   "id": "71c3b9f7",
   "metadata": {},
   "outputs": [],
   "source": [
    "#drop columns not needed to build the model.\n",
    "# in this case dropping id\n",
    "\n",
    "x_train = train_data.drop('id', axis = 1)\n",
    "x_test = test_data.drop('id', axis = 1) \n",
    "\n",
    "\n",
    "#drop target column from train data and assign target variable to val set\n",
    "\n",
    "x_train = x_train.drop('smoking', axis = 1)\n",
    "y_train = train_data['smoking']\n",
    "\n",
    "\n"
   ]
  },
  {
   "cell_type": "code",
   "execution_count": 69,
   "id": "31b0ff6e",
   "metadata": {},
   "outputs": [],
   "source": [
    "# split the data\n",
    "\n",
    "x_train, x_val, y_train, y_val = train_test_split(x_train, y_train,train_size = 0.8, test_size = 0.2 , random_state = 0 )\n"
   ]
  },
  {
   "cell_type": "code",
   "execution_count": 119,
   "id": "ba20b389",
   "metadata": {},
   "outputs": [
    {
     "name": "stdout",
     "output_type": "stream",
     "text": [
      "AUC score for train data is: 0.7908863376884036\n"
     ]
    }
   ],
   "source": [
    "\n",
    "# Create and train the XGBoost model\n",
    "model = xgb.XGBClassifier(n_estimators= 1000, learning_rate=0.08, max_depth = 5, gamma = 0,\n",
    "                          reg_lambda = 5, subsample = 1, colsample_bytree = 1, min_child_weight = 1,\n",
    "                          objective = 'binary:logistic', nthread = 4)\n",
    "model.fit(x_train, y_train)\n",
    "\n",
    "# Make predictions on training data\n",
    "y_pred = model.predict(x_val)\n",
    "\n",
    "# Calculate the AUC score for train data\n",
    "train_auc = roc_auc_score(y_val, y_pred)\n",
    "\n",
    "print(\"AUC score for train data is:\", train_auc)\n"
   ]
  },
  {
   "cell_type": "code",
   "execution_count": 121,
   "id": "b4705e94",
   "metadata": {},
   "outputs": [],
   "source": [
    "# Make predictions on test data\n",
    "y_pred_test = model.predict(x_test)\n",
    "\n",
    "# Create a pandas DataFrame of the test data and predictions\n",
    "test_df = pd.DataFrame({'id': x_test.index, 'smoking': y_pred_test})\n",
    "\n",
    "# Save the DataFrame to a CSV file\n",
    "test_df.to_csv('submission.csv', index=False)\n"
   ]
  },
  {
   "cell_type": "code",
   "execution_count": null,
   "id": "fd8814ca",
   "metadata": {},
   "outputs": [],
   "source": []
  }
 ],
 "metadata": {
  "kernelspec": {
   "display_name": "Python 3 (ipykernel)",
   "language": "python",
   "name": "python3"
  },
  "language_info": {
   "codemirror_mode": {
    "name": "ipython",
    "version": 3
   },
   "file_extension": ".py",
   "mimetype": "text/x-python",
   "name": "python",
   "nbconvert_exporter": "python",
   "pygments_lexer": "ipython3",
   "version": "3.11.4"
  }
 },
 "nbformat": 4,
 "nbformat_minor": 5
}
